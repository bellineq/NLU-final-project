{
 "cells": [
  {
   "cell_type": "markdown",
   "metadata": {},
   "source": [
    "## A notbook for generating \"It is not the case that... \" data"
   ]
  },
  {
   "cell_type": "code",
   "execution_count": 1,
   "metadata": {},
   "outputs": [],
   "source": [
    "import pandas as pd\n",
    "import string"
   ]
  },
  {
   "cell_type": "code",
   "execution_count": 54,
   "metadata": {},
   "outputs": [],
   "source": [
    "data_path = ''"
   ]
  },
  {
   "cell_type": "code",
   "execution_count": 45,
   "metadata": {},
   "outputs": [],
   "source": [
    "df = pd.read_csv(data_path, '\\t', error_bad_lines=False)#.dropna()\n"
   ]
  },
  {
   "cell_type": "code",
   "execution_count": 46,
   "metadata": {},
   "outputs": [],
   "source": [
    "df = df.drop(columns=['label1', 'label2', 'label3', 'label4', 'label5']).dropna()"
   ]
  },
  {
   "cell_type": "code",
   "execution_count": 47,
   "metadata": {},
   "outputs": [],
   "source": [
    "def it_is_not_the_case(sen):\n",
    "    return \"It is not the case that \" + sen[0].lower() + sen[1:]"
   ]
  },
  {
   "cell_type": "code",
   "execution_count": 52,
   "metadata": {},
   "outputs": [],
   "source": [
    "def get_implied_dfs(df):\n",
    "    dff = df.copy()\n",
    "    dff['neg_1'] = dff['sentence1'].transform(it_is_not_the_case)\n",
    "    dff['neg_2'] = dff['sentence2'].transform(it_is_not_the_case)\n",
    "    \n",
    "    dfs = {}\n",
    "    \n",
    "    t1n1 = dff[['sentence2', 'neg_2']].copy().rename(columns={'sentence2': 'sentence1', 'neg_2': 'sentence2'})\n",
    "    t1n1['gold_label'] = 'contradiction'\n",
    "    dfs['t1n1c'] = t1n1\n",
    "    \n",
    "    en21 = dff[dff['gold_label']=='entailment'][['neg_2', 'sentence1']].copy().rename(columns={'neg_2': 'sentence1', 'sentence1': 'sentence2'})\n",
    "    en21['gold_label'] = 'contradiction'\n",
    "    dfs['en21c'] = en21\n",
    "\n",
    "    en2n1 = dff[dff['gold_label']=='entailment'][['neg_2', 'neg_1']].copy().rename(columns={'neg_2': 'sentence1', 'neg_1': 'sentence2'})\n",
    "    en2n1['gold_label'] = 'entailment'\n",
    "    dfs['en2n1e'] = en2n1\n",
    "\n",
    "    c2n1 = dff[dff['gold_label']=='contradiction'][['sentence2', 'neg_1']].copy().rename(columns={'sentence2': 'sentence1', 'neg_1': 'sentence2'})\n",
    "    c2n1['gold_label'] = 'entailment'\n",
    "    dfs['c2n1e'] = c2n1\n",
    "\n",
    "    c1n2 = dff[dff['gold_label']=='contradiction'][['sentence1', 'neg_2']].copy().rename(columns={'sentence1': 'sentence1', 'neg_2': 'sentence2'})\n",
    "    c1n2['gold_label'] = 'entailment'\n",
    "    dfs['c1n2e'] = c1n2\n",
    "    \n",
    "    return dfs"
   ]
  },
  {
   "cell_type": "code",
   "execution_count": 53,
   "metadata": {},
   "outputs": [],
   "source": [
    "dfs = get_implied_dfs(df)\n",
    "\n",
    "for name in dfs:\n",
    "    csv = open('snli_test_'+name+'.csv', 'w')\n",
    "    dfs[name].to_csv(csv)"
   ]
  },
  {
   "cell_type": "code",
   "execution_count": null,
   "metadata": {},
   "outputs": [],
   "source": []
  }
 ],
 "metadata": {
  "kernelspec": {
   "display_name": "Python 3",
   "language": "python",
   "name": "python3"
  },
  "language_info": {
   "codemirror_mode": {
    "name": "ipython",
    "version": 3
   },
   "file_extension": ".py",
   "mimetype": "text/x-python",
   "name": "python",
   "nbconvert_exporter": "python",
   "pygments_lexer": "ipython3",
   "version": "3.7.0"
  }
 },
 "nbformat": 4,
 "nbformat_minor": 2
}
