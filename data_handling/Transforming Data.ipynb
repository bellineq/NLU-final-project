{
 "cells": [
  {
   "cell_type": "markdown",
   "metadata": {},
   "source": [
    "## A notebook for transforming verb negated data into SNLI format"
   ]
  },
  {
   "cell_type": "code",
   "execution_count": 42,
   "metadata": {},
   "outputs": [],
   "source": [
    "import pandas as pd\n",
    "import string"
   ]
  },
  {
   "cell_type": "code",
   "execution_count": 58,
   "metadata": {},
   "outputs": [],
   "source": [
    "data_path = ''"
   ]
  },
  {
   "cell_type": "code",
   "execution_count": 43,
   "metadata": {},
   "outputs": [],
   "source": [
    "df = pd.read_csv(data_path, '\\t', error_bad_lines=False).drop(0)\n"
   ]
  },
  {
   "cell_type": "markdown",
   "metadata": {},
   "source": [
    "### Training data"
   ]
  },
  {
   "cell_type": "code",
   "execution_count": 45,
   "metadata": {},
   "outputs": [],
   "source": [
    "c1n2e = df[['sentence1', 'sentence2_negation']].rename(columns={'sentence2_negation': 'sentence2'})\n",
    "c1n2e['gold_label'] = 'entailment'"
   ]
  },
  {
   "cell_type": "code",
   "execution_count": 46,
   "metadata": {},
   "outputs": [],
   "source": [
    "csv = open('snli_train_c1n2e.csv', 'w')\n",
    "c1n2e.to_csv(csv)"
   ]
  },
  {
   "cell_type": "code",
   "execution_count": 47,
   "metadata": {},
   "outputs": [],
   "source": [
    "c2n1e = df[['sentence2', 'sentence1_negation']].rename(columns={'sentence2': 'sentence1', 'sentence1_negation': 'sentence2'})\n",
    "c2n1e['gold_label'] = 'entailment'"
   ]
  },
  {
   "cell_type": "code",
   "execution_count": 48,
   "metadata": {},
   "outputs": [],
   "source": [
    "csv = open('snli_train_c2n1e.csv', 'w')\n",
    "c2n1e.to_csv(csv)"
   ]
  },
  {
   "cell_type": "code",
   "execution_count": 49,
   "metadata": {},
   "outputs": [],
   "source": [
    "t1n1c = df[['sentence1', 'sentence1_negation']].rename(columns={'sentence1_negation': 'sentence2'})\n",
    "t1n1c['gold_label'] = 'contradiction'"
   ]
  },
  {
   "cell_type": "code",
   "execution_count": 50,
   "metadata": {},
   "outputs": [],
   "source": [
    "csv = open('snli_train_t1n1c.csv', 'w')\n",
    "t1n1c.to_csv(csv)"
   ]
  },
  {
   "cell_type": "markdown",
   "metadata": {},
   "source": [
    "### Test data"
   ]
  },
  {
   "cell_type": "code",
   "execution_count": 51,
   "metadata": {},
   "outputs": [],
   "source": [
    "df = pd.read_csv(r'/Users/oliver/NYU/nlu19/Project/snli_negation/test/test.tsv', '\\t', error_bad_lines=False)#.drop(0)\n"
   ]
  },
  {
   "cell_type": "code",
   "execution_count": 52,
   "metadata": {},
   "outputs": [],
   "source": [
    "c1n2e = df[['sentence1', 'sentence2_negation']].rename(columns={'sentence2_negation': 'sentence2'})\n",
    "c1n2e['gold_label'] = 'entailment'"
   ]
  },
  {
   "cell_type": "code",
   "execution_count": 53,
   "metadata": {},
   "outputs": [],
   "source": [
    "csv = open('snli_test_c1n2e.csv', 'w')\n",
    "c1n2e.to_csv(csv)"
   ]
  },
  {
   "cell_type": "code",
   "execution_count": 54,
   "metadata": {},
   "outputs": [],
   "source": [
    "c2n1e = df[['sentence2', 'sentence1_negation']].rename(columns={'sentence2': 'sentence1', 'sentence1_negation': 'sentence2'})\n",
    "c2n1e['gold_label'] = 'entailment'"
   ]
  },
  {
   "cell_type": "code",
   "execution_count": 55,
   "metadata": {},
   "outputs": [],
   "source": [
    "csv = open('snli_test_c2n1e.csv', 'w')\n",
    "c2n1e.to_csv(csv)"
   ]
  },
  {
   "cell_type": "code",
   "execution_count": 56,
   "metadata": {},
   "outputs": [],
   "source": [
    "t1n1c = df[['sentence1', 'sentence1_negation']].rename(columns={'sentence1_negation': 'sentence2'})\n",
    "t1n1c['gold_label'] = 'contradiction'"
   ]
  },
  {
   "cell_type": "code",
   "execution_count": 57,
   "metadata": {},
   "outputs": [],
   "source": [
    "csv = open('snli_test_t1n1c.csv', 'w')\n",
    "t1n1c.to_csv(csv)"
   ]
  }
 ],
 "metadata": {
  "kernelspec": {
   "display_name": "Python 3",
   "language": "python",
   "name": "python3"
  },
  "language_info": {
   "codemirror_mode": {
    "name": "ipython",
    "version": 3
   },
   "file_extension": ".py",
   "mimetype": "text/x-python",
   "name": "python",
   "nbconvert_exporter": "python",
   "pygments_lexer": "ipython3",
   "version": "3.7.0"
  }
 },
 "nbformat": 4,
 "nbformat_minor": 2
}
